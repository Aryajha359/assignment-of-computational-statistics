{
  "nbformat": 4,
  "nbformat_minor": 0,
  "metadata": {
    "colab": {
      "provenance": [],
      "authorship_tag": "ABX9TyOWEfyQqlS/uJuIofHRIHci",
      "include_colab_link": true
    },
    "kernelspec": {
      "name": "python3",
      "display_name": "Python 3"
    },
    "language_info": {
      "name": "python"
    }
  },
  "cells": [
    {
      "cell_type": "markdown",
      "metadata": {
        "id": "view-in-github",
        "colab_type": "text"
      },
      "source": [
        "<a href=\"https://colab.research.google.com/github/Aryajha359/assignment-of-computational-statistics/blob/main/32mutability_by_modifying_the_list_item.ipynb\" target=\"_parent\"><img src=\"https://colab.research.google.com/assets/colab-badge.svg\" alt=\"Open In Colab\"/></a>"
      ]
    },
    {
      "cell_type": "code",
      "execution_count": null,
      "metadata": {
        "colab": {
          "base_uri": "https://localhost:8080/"
        },
        "id": "4pWIxZNqPM3G",
        "outputId": "8a62e09a-d438-4d27-e5ff-9fd5d6230001"
      },
      "outputs": [
        {
          "output_type": "stream",
          "name": "stdout",
          "text": [
            "Original list: [10, 20, 30, 40, 50]\n",
            "List after modifying an element: [10, 20, 300, 40, 50]\n",
            "List after appending an element: [10, 20, 300, 40, 50, 60]\n",
            "List after inserting an element: [10, 20, 300, 45, 40, 50, 60]\n",
            "List after removing an element by value: [10, 300, 45, 40, 50, 60]\n",
            "List after removing an element by index: [300, 45, 40, 50, 60]\n",
            "List after extending: [300, 45, 40, 50, 60, 70, 80, 90]\n",
            "List after modifying a slice: [300, 45, 40, 400, 500, 600, 80, 90]\n",
            "List after clearing: []\n"
          ]
        }
      ],
      "source": [
        "# Initialize a list of integers\n",
        "my_list = [10, 20, 30, 40, 50]\n",
        "\n",
        "print(\"Original list:\", my_list)\n",
        "\n",
        "# Modify an element\n",
        "my_list[2] = 300  # Change the third element (index 2)\n",
        "print(\"List after modifying an element:\", my_list)\n",
        "\n",
        "# Append an element\n",
        "my_list.append(60)\n",
        "print(\"List after appending an element:\", my_list)\n",
        "\n",
        "# Insert an element at a specific position\n",
        "my_list.insert(3, 45)  # Insert 45 at index 3\n",
        "print(\"List after inserting an element:\", my_list)\n",
        "\n",
        "# Remove an element by value\n",
        "my_list.remove(20)  # Remove the first occurrence of 20\n",
        "print(\"List after removing an element by value:\", my_list)\n",
        "\n",
        "# Remove an element by index\n",
        "del my_list[0]  # Remove the element at index 0\n",
        "print(\"List after removing an element by index:\", my_list)\n",
        "\n",
        "# Extend the list with another list\n",
        "my_list.extend([70, 80, 90])\n",
        "print(\"List after extending:\", my_list)\n",
        "\n",
        "# Modify a slice of the list\n",
        "my_list[3:6] = [400, 500, 600] #Replaces elements at index 3,4,5\n",
        "print(\"List after modifying a slice:\", my_list)\n",
        "\n",
        "#Clear the list\n",
        "my_list.clear()\n",
        "print(\"List after clearing:\", my_list)"
      ]
    }
  ]
}