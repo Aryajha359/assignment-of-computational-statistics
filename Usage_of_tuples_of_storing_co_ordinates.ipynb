{
  "nbformat": 4,
  "nbformat_minor": 0,
  "metadata": {
    "colab": {
      "provenance": [],
      "authorship_tag": "ABX9TyOVctkLa1Zk0LSpEnU6WoH7",
      "include_colab_link": true
    },
    "kernelspec": {
      "name": "python3",
      "display_name": "Python 3"
    },
    "language_info": {
      "name": "python"
    }
  },
  "cells": [
    {
      "cell_type": "markdown",
      "metadata": {
        "id": "view-in-github",
        "colab_type": "text"
      },
      "source": [
        "<a href=\"https://colab.research.google.com/github/Aryajha359/assignment-of-computational-statistics/blob/main/Usage_of_tuples_of_storing_co_ordinates.ipynb\" target=\"_parent\"><img src=\"https://colab.research.google.com/assets/colab-badge.svg\" alt=\"Open In Colab\"/></a>"
      ]
    },
    {
      "cell_type": "code",
      "execution_count": 1,
      "metadata": {
        "colab": {
          "base_uri": "https://localhost:8080/"
        },
        "id": "FqVmBEhkLf1U",
        "outputId": "3d02edde-4122-43ac-eb6e-30870ca73226"
      },
      "outputs": [
        {
          "output_type": "stream",
          "name": "stdout",
          "text": [
            "X-coordinate: 3\n",
            "Y-coordinate: 5\n",
            "\n",
            "List of coordinates:\n",
            "Point 1: (1, 2)\n",
            "Point 2: (3, 4)\n",
            "Point 3: (5, 6)\n",
            "Point 4: (7, 8)\n",
            "\n",
            "Distance between (1, 2) and (7, 8): 8.49\n",
            "\n",
            "Updated list of coordinates:\n",
            "[(1, 2), (3, 4), (5, 6), (7, 8), (9, 10)]\n"
          ]
        }
      ],
      "source": [
        "\n",
        "\n",
        "point = (3, 5)\n",
        "\n",
        "# Accessing elements of the tuple\n",
        "print(f\"X-coordinate: {point[0]}\")\n",
        "print(f\"Y-coordinate: {point[1]}\")\n",
        "\n",
        "# Define a list of tuples to store multiple coordinates\n",
        "coordinates = [\n",
        "    (1, 2),\n",
        "    (3, 4),\n",
        "    (5, 6),\n",
        "    (7, 8)\n",
        "]\n",
        "\n",
        "# Display all coordinates\n",
        "print(\"\\nList of coordinates:\")\n",
        "for index, coord in enumerate(coordinates, start=1):\n",
        "    print(f\"Point {index}: {coord}\")\n",
        "\n",
        "# Example: Calculating the distance between two points\n",
        "import math\n",
        "\n",
        "def calculate_distance(coord1, coord2):\n",
        "    \"\"\"Calculate the Euclidean distance between two points.\"\"\"\n",
        "    return math.sqrt((coord2[0] - coord1[0])**2 + (coord2[1] - coord1[1])**2)\n",
        "\n",
        "# Calculate distance between the first and last point in the list\n",
        "distance = calculate_distance(coordinates[0], coordinates[-1])\n",
        "print(f\"\\nDistance between {coordinates[0]} and {coordinates[-1]}: {distance:.2f}\")\n",
        "\n",
        "# Adding new coordinates (immutability of tuples)\n",
        "new_point = (9, 10)\n",
        "coordinates.append(new_point)\n",
        "print(\"\\nUpdated list of coordinates:\")\n",
        "print(coordinates)"
      ]
    }
  ]
}